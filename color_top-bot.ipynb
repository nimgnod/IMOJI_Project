{
 "cells": [
  {
   "cell_type": "code",
   "execution_count": null,
   "id": "773d6188",
   "metadata": {},
   "outputs": [],
   "source": [
    "import json\n",
    "from pprint import pprint\n",
    "from ast import literal_eval\n",
    "import os\n",
    "import sys\n",
    "\n",
    "folder = '페미닌'\n",
    "\n",
    "file_path = 'C:\\\\Users\\\\user\\\\valid_labeling\\\\labeling_data\\\\{}'.format(folder)\n",
    "file_names = os.listdir(file_path)\n",
    "\n",
    "for name in file_names:\n",
    "    with open('C:\\\\Users\\\\user\\\\valid_labeling\\\\labeling_data\\\\{}\\\\{}'.format(folder, name), 'r', encoding='UTF8') as data_file:\n",
    "        local = json.load(data_file)\n",
    "        local_t = local['데이터셋 정보']['데이터셋 상세설명']['라벨링']['상의']\n",
    "        t = \", \".join( repr(e) for e in local_t)\n",
    "        new_t = literal_eval(t)\n",
    "        \n",
    "        sys.stdout = open(folder + '_상의.txt', 'a', encoding='utf-8')\n",
    "        \n",
    "        if '색상' not in new_t:\n",
    "            print('없음')\n",
    "        else:\n",
    "            print(new_t['색상'])\n",
    "        \n",
    "        sys.stdout.close()\n",
    "\n",
    "for name in file_names:\n",
    "    with open('C:\\\\Users\\\\user\\\\valid_labeling\\\\labeling_data\\\\{}\\\\{}'.format(folder, name), 'r', encoding='UTF8') as data_file:\n",
    "        local = json.load(data_file)\n",
    "        local_t = local['데이터셋 정보']['데이터셋 상세설명']['라벨링']['하의']\n",
    "        t = \", \".join( repr(e) for e in local_t)\n",
    "        new_t = literal_eval(t)\n",
    "        \n",
    "        sys.stdout = open(folder + '_하의.txt', 'a', encoding='utf-8')\n",
    "        \n",
    "        if '색상' not in new_t:\n",
    "            print('없음')\n",
    "        else:\n",
    "            print(new_t['색상'])\n",
    "        \n",
    "        sys.stdout.close()"
   ]
  }
 ],
 "metadata": {
  "kernelspec": {
   "display_name": "Python 3 (ipykernel)",
   "language": "python",
   "name": "python3"
  },
  "language_info": {
   "codemirror_mode": {
    "name": "ipython",
    "version": 3
   },
   "file_extension": ".py",
   "mimetype": "text/x-python",
   "name": "python",
   "nbconvert_exporter": "python",
   "pygments_lexer": "ipython3",
   "version": "3.9.4"
  }
 },
 "nbformat": 4,
 "nbformat_minor": 5
}
